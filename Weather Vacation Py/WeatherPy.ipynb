{
 "cells": [
  {
   "cell_type": "markdown",
   "metadata": {},
   "source": [
    "# WeatherPy\n",
    "----\n",
    "\n",
    "#### Note\n",
    "* Instructions have been included for each segment. You do not have to follow them exactly, but they are included to help you think through the steps."
   ]
  },
  {
   "cell_type": "markdown",
   "metadata": {},
   "source": [
    "# WeatherPY Trends:\n",
    "\n",
    "For the Latitude vs. Temperature Plot, the scatterplot shows the temperature peaks between 38° to 48° latitude and then drops back down as the latitude continues to increase.\n",
    "\n",
    "For Northern Hemisphere - Max Temp vs. Latitude Linear Regression, there is negative correlation as latitude increases max temperatures continue to decline. \n",
    "\n",
    "For Southern Hemisphere - Max Temp vs. Latitude Linear Regression, there is a positive correlation as latitude increases max temperature continues to increases."
   ]
  },
  {
   "cell_type": "code",
   "execution_count": 1,
   "metadata": {
    "scrolled": true
   },
   "outputs": [],
   "source": [
    "# Dependencies and Setup\n",
    "import matplotlib.pyplot as plt\n",
    "import pandas as pd\n",
    "import numpy as np\n",
    "import requests\n",
    "import time\n",
    "from scipy.stats import linregress\n",
    "from pprint import pprint\n",
    "import json\n",
    "\n",
    "# Import API key\n",
    "from api_keys import weather_api_key\n",
    "\n",
    "# Incorporated citipy to determine city based on latitude and longitude\n",
    "from citipy import citipy\n",
    "\n",
    "# Output File (CSV)\n",
    "output_data_file = \"output_data/cities.csv\"\n",
    "\n",
    "# Range of latitudes and longitudes\n",
    "lat_range = (-90, 90)\n",
    "lng_range = (-180, 180)"
   ]
  },
  {
   "cell_type": "markdown",
   "metadata": {},
   "source": [
    "## Generate Cities List"
   ]
  },
  {
   "cell_type": "code",
   "execution_count": 2,
   "metadata": {},
   "outputs": [
    {
     "data": {
      "text/plain": [
       "631"
      ]
     },
     "execution_count": 2,
     "metadata": {},
     "output_type": "execute_result"
    }
   ],
   "source": [
    "# List for holding lat_lngs and cities\n",
    "lat_lngs = []\n",
    "cities = []\n",
    "\n",
    "# Create a set of random lat and lng combinations\n",
    "lats = np.random.uniform(lat_range[0], lat_range[1], size=1500)\n",
    "lngs = np.random.uniform(lng_range[0], lng_range[1], size=1500)\n",
    "lat_lngs = zip(lats, lngs)\n",
    "\n",
    "# Identify nearest city for each lat, lng combination\n",
    "for lat_lng in lat_lngs:\n",
    "    city = citipy.nearest_city(lat_lng[0], lat_lng[1]).city_name\n",
    "    \n",
    "    # If the city is unique, then add it to a our cities list\n",
    "    if city not in cities:\n",
    "        cities.append(city)\n",
    "\n",
    "# Print the city count to confirm sufficient count\n",
    "len(cities)"
   ]
  },
  {
   "cell_type": "markdown",
   "metadata": {},
   "source": [
    "### Perform API Calls\n",
    "* Perform a weather check on each city using a series of successive API calls.\n",
    "* Include a print log of each city as it'sbeing processed (with the city number and city name).\n"
   ]
  },
  {
   "cell_type": "code",
   "execution_count": 3,
   "metadata": {},
   "outputs": [],
   "source": [
    "# Save config information\n",
    "url = \"http://api.openweathermap.org/data/2.5/weather?\"\n",
    "units = \"imperial\"\n",
    "\n",
    "# Build query URL\n",
    "queryURL = f\"{url}appid={weather_api_key}&units={units}&q=\"\n",
    "\n",
    "response = requests.get(queryURL + city).json()"
   ]
  },
  {
   "cell_type": "code",
   "execution_count": 4,
   "metadata": {
    "scrolled": true
   },
   "outputs": [
    {
     "name": "stdout",
     "output_type": "stream",
     "text": [
      "Beginning Data Retrieval\n",
      "-------------------------\n",
      "city not found. Skipping ...\n",
      "Processing Record 2 of 1 | Chokurdakh\n",
      "Processing Record 3 of 1 | Dolores\n",
      "Processing Record 4 of 1 | Ushuaia\n",
      "Processing Record 5 of 1 | Jamestown\n",
      "Processing Record 6 of 1 | Oussouye\n",
      "Processing Record 7 of 1 | Qaanaaq\n",
      "Processing Record 8 of 1 | Punta Arenas\n",
      "city not found. Skipping ...\n",
      "Processing Record 9 of 1 | Kavaratti\n",
      "Processing Record 10 of 1 | Pandan\n",
      "Processing Record 11 of 1 | Puerto Cabezas\n",
      "Processing Record 12 of 1 | Kaitangata\n",
      "Processing Record 13 of 1 | Karoi\n",
      "Processing Record 14 of 1 | Albany\n",
      "Processing Record 15 of 1 | Biltine\n",
      "Processing Record 16 of 1 | Ancud\n",
      "Processing Record 17 of 1 | East London\n",
      "Processing Record 18 of 1 | Hermanus\n",
      "Processing Record 19 of 1 | Shelburne\n",
      "Processing Record 20 of 1 | Fukuechō\n",
      "Processing Record 21 of 1 | Port Alfred\n",
      "Processing Record 22 of 1 | Etchoropo\n",
      "Processing Record 23 of 1 | Cheremushskiy\n",
      "Processing Record 24 of 1 | Chui\n",
      "Processing Record 25 of 1 | Miranda\n",
      "Processing Record 26 of 1 | Brae\n",
      "Processing Record 27 of 1 | Sangre Grande\n",
      "city not found. Skipping ...\n",
      "Processing Record 28 of 1 | Meadow Lake\n",
      "Processing Record 29 of 1 | Cap Malheureux\n",
      "Processing Record 30 of 1 | Rikitea\n",
      "Processing Record 31 of 1 | Sussex\n",
      "Processing Record 32 of 1 | Fare\n",
      "Processing Record 33 of 1 | Mataura\n",
      "Processing Record 34 of 1 | Faanui\n",
      "Processing Record 35 of 1 | Saint-Philippe\n",
      "Processing Record 36 of 1 | North Bend\n",
      "Processing Record 37 of 1 | Barrow\n",
      "city not found. Skipping ...\n",
      "Processing Record 38 of 1 | Port Elizabeth\n",
      "city not found. Skipping ...\n",
      "Processing Record 39 of 1 | Dikson\n",
      "Processing Record 40 of 1 | Cockburn Town\n",
      "Processing Record 41 of 1 | Norman Wells\n",
      "Processing Record 42 of 1 | San Quintín\n",
      "Processing Record 43 of 1 | Moses Lake\n",
      "Processing Record 44 of 1 | Chapleau\n",
      "Processing Record 45 of 1 | Zabul Province\n",
      "Processing Record 46 of 1 | Carutapera\n",
      "Processing Record 47 of 1 | Jalu\n",
      "Processing Record 48 of 1 | Zhanakorgan\n",
      "Processing Record 49 of 1 | Ushtobe\n",
      "Processing Record 50 of 1 | Hong Kong\n",
      "Processing Record 0 of 2 | Antsohihy\n",
      "Processing Record 1 of 2 | Te Anau\n",
      "Processing Record 2 of 2 | Bredasdorp\n",
      "Processing Record 3 of 2 | Avarua\n",
      "Processing Record 4 of 2 | Busselton\n",
      "Processing Record 5 of 2 | Tucumcari\n",
      "Processing Record 6 of 2 | Tuktoyaktuk\n",
      "Processing Record 7 of 2 | Berlevåg\n",
      "Processing Record 8 of 2 | Port Hedland\n",
      "city not found. Skipping ...\n",
      "Processing Record 9 of 2 | Jinchang\n",
      "Processing Record 10 of 2 | Bilibino\n",
      "Processing Record 11 of 2 | Lata\n",
      "Processing Record 12 of 2 | Atuona\n",
      "Processing Record 13 of 2 | New Norfolk\n",
      "Processing Record 14 of 2 | Nyurba\n",
      "city not found. Skipping ...\n",
      "Processing Record 15 of 2 | Achacachi\n",
      "Processing Record 16 of 2 | Puerto Ayora\n",
      "Processing Record 17 of 2 | Vaini\n",
      "Processing Record 18 of 2 | Forsytheganj\n",
      "Processing Record 19 of 2 | Nautla\n",
      "Processing Record 20 of 2 | St Austell\n",
      "city not found. Skipping ...\n",
      "Processing Record 21 of 2 | Kapaa\n",
      "Processing Record 22 of 2 | Sitka\n",
      "city not found. Skipping ...\n",
      "Processing Record 23 of 2 | Saint-Pierre\n",
      "Processing Record 24 of 2 | Shakawe\n",
      "Processing Record 25 of 2 | Tiarei\n",
      "Processing Record 26 of 2 | Kruisfontein\n",
      "Processing Record 27 of 2 | Severo-Kuril'sk\n",
      "Processing Record 28 of 2 | Fort Nelson\n",
      "Processing Record 29 of 2 | Mbeya\n",
      "Processing Record 30 of 2 | Seoul\n",
      "city not found. Skipping ...\n",
      "Processing Record 31 of 2 | Souillac\n",
      "Processing Record 32 of 2 | Bethel\n",
      "Processing Record 33 of 2 | Mayor Pablo Lagerenza\n",
      "Processing Record 34 of 2 | Tiksi\n",
      "Processing Record 35 of 2 | Caravelas\n",
      "Processing Record 36 of 2 | Hithadhoo\n",
      "Processing Record 37 of 2 | Yankton\n",
      "Processing Record 38 of 2 | Abashiri\n",
      "Processing Record 39 of 2 | Castro\n",
      "city not found. Skipping ...\n",
      "Processing Record 40 of 2 | Carnarvon\n",
      "Processing Record 41 of 2 | Sobolevo\n",
      "Processing Record 42 of 2 | Meulaboh\n",
      "Processing Record 43 of 2 | Cape Town\n",
      "Processing Record 44 of 2 | Bartlesville\n",
      "Processing Record 45 of 2 | George Town\n",
      "Processing Record 46 of 2 | Williamsburg\n",
      "Processing Record 47 of 2 | Kampong Cham\n",
      "Processing Record 48 of 2 | Paracuru\n",
      "Processing Record 49 of 2 | Maués\n",
      "Processing Record 50 of 2 | Iqaluit\n",
      "Processing Record 0 of 3 | Inírida\n",
      "Processing Record 1 of 3 | Antalaha\n",
      "Processing Record 2 of 3 | Cabo San Lucas\n",
      "Processing Record 3 of 3 | Constitución\n",
      "Processing Record 4 of 3 | Groton\n",
      "Processing Record 5 of 3 | Thompson\n",
      "Processing Record 6 of 3 | Port Lincoln\n",
      "Processing Record 7 of 3 | Narsaq\n",
      "Processing Record 8 of 3 | Saint Paul Harbor\n",
      "Processing Record 9 of 3 | Acapulco de Juárez\n",
      "Processing Record 10 of 3 | Hirara\n",
      "city not found. Skipping ...\n",
      "Processing Record 11 of 3 | Tuttlingen\n",
      "Processing Record 12 of 3 | Guerrero Negro\n",
      "Processing Record 13 of 3 | Isabela\n",
      "Processing Record 14 of 3 | Dauphin\n",
      "Processing Record 15 of 3 | Mayna\n",
      "Processing Record 16 of 3 | Torbay\n",
      "Processing Record 17 of 3 | Yumen\n",
      "Processing Record 18 of 3 | Koumac\n",
      "Processing Record 19 of 3 | Bluff\n",
      "Processing Record 20 of 3 | Khatanga\n",
      "Processing Record 21 of 3 | Ponta do Sol\n",
      "Processing Record 22 of 3 | Maniitsoq\n",
      "city not found. Skipping ...\n",
      "Processing Record 23 of 3 | Emmett\n",
      "Processing Record 24 of 3 | Sogod\n",
      "Processing Record 25 of 3 | Tuatapere\n",
      "Processing Record 26 of 3 | Yellowknife\n",
      "Processing Record 27 of 3 | Luba\n",
      "Processing Record 28 of 3 | Manacapuru\n",
      "Processing Record 29 of 3 | Balikpapan\n",
      "Processing Record 30 of 3 | Hobart\n",
      "Processing Record 31 of 3 | Hilo\n",
      "Processing Record 32 of 3 | Saurimo\n",
      "Processing Record 33 of 3 | Talnakh\n",
      "Processing Record 34 of 3 | Lebu\n",
      "Processing Record 35 of 3 | Nanchang\n",
      "Processing Record 36 of 3 | Nikolskoye\n",
      "Processing Record 37 of 3 | Fortuna\n",
      "Processing Record 38 of 3 | Leningradskiy\n",
      "Processing Record 39 of 3 | Salmās\n",
      "Processing Record 40 of 3 | Nuuk\n",
      "Processing Record 41 of 3 | Chumikan\n",
      "Processing Record 42 of 3 | Abu Dhabi\n",
      "Processing Record 43 of 3 | Pierre\n",
      "Processing Record 44 of 3 | Matara\n",
      "Processing Record 45 of 3 | Salalah\n",
      "Processing Record 46 of 3 | Karratha\n",
      "Processing Record 47 of 3 | Caucaia\n",
      "Processing Record 48 of 3 | Codrington\n",
      "Processing Record 49 of 3 | Geraldton\n",
      "city not found. Skipping ...\n",
      "Processing Record 50 of 3 | Mahébourg\n",
      "Processing Record 0 of 4 | Ilulissat\n",
      "Processing Record 1 of 4 | Verkhoyansk\n",
      "Processing Record 2 of 4 | Calvillo\n",
      "Processing Record 3 of 4 | Izumo\n",
      "Processing Record 4 of 4 | Pevek\n",
      "Processing Record 5 of 4 | Banda Aceh\n",
      "Processing Record 6 of 4 | Guane\n",
      "Processing Record 7 of 4 | Itarema\n",
      "Processing Record 8 of 4 | Zhezkazgan\n",
      "Processing Record 9 of 4 | Okhotsk\n",
      "Processing Record 10 of 4 | Molteno\n",
      "Processing Record 11 of 4 | Carndonagh\n",
      "Processing Record 12 of 4 | Beringovskiy\n",
      "Processing Record 13 of 4 | San Patricio\n",
      "Processing Record 14 of 4 | Dwārka\n",
      "city not found. Skipping ...\n",
      "Processing Record 15 of 4 | Eyl\n",
      "Processing Record 16 of 4 | Takoradze\n",
      "Processing Record 17 of 4 | Centerville\n",
      "Processing Record 18 of 4 | Butaritari\n",
      "Processing Record 19 of 4 | Ushibukamachi\n",
      "Processing Record 20 of 4 | Misratah\n",
      "Processing Record 21 of 4 | Nanortalik\n",
      "Processing Record 22 of 4 | Valleyview\n",
      "Processing Record 23 of 4 | Adrar\n",
      "Processing Record 24 of 4 | Flagstaff\n",
      "Processing Record 25 of 4 | Tasiilaq\n",
      "Processing Record 26 of 4 | Sambava\n",
      "Processing Record 27 of 4 | Nurota\n",
      "Processing Record 28 of 4 | Kaseda-shirakame\n",
      "Processing Record 29 of 4 | Jāwā\n",
      "Processing Record 30 of 4 | Buraidah\n",
      "Processing Record 31 of 4 | Raahe\n",
      "Processing Record 32 of 4 | Chiny\n",
      "Processing Record 33 of 4 | Manggar\n",
      "Processing Record 34 of 4 | Aklavik\n",
      "Processing Record 35 of 4 | Saldanha\n",
      "Processing Record 36 of 4 | Noumea\n",
      "Processing Record 37 of 4 | Abalak\n",
      "Processing Record 38 of 4 | Manbij\n",
      "Processing Record 39 of 4 | Sulangan\n",
      "Processing Record 40 of 4 | Morris\n",
      "Processing Record 41 of 4 | Padang\n",
      "Processing Record 42 of 4 | Peñarroya-Pueblonuevo\n",
      "Processing Record 43 of 4 | Nanding\n",
      "Processing Record 44 of 4 | Inyonga\n",
      "Processing Record 45 of 4 | Port Hardy\n",
      "Processing Record 46 of 4 | Antofagasta\n",
      "Processing Record 47 of 4 | Asău\n",
      "Processing Record 48 of 4 | Trelew\n",
      "Processing Record 49 of 4 | Cherskiy\n",
      "Processing Record 50 of 4 | Margate\n",
      "Processing Record 0 of 5 | Saint George\n",
      "Processing Record 1 of 5 | Grindavik\n",
      "Processing Record 2 of 5 | Kavieng\n",
      "Processing Record 3 of 5 | North Myrtle Beach\n",
      "Processing Record 4 of 5 | Sibolga\n"
     ]
    },
    {
     "name": "stdout",
     "output_type": "stream",
     "text": [
      "Processing Record 5 of 5 | Atar\n",
      "city not found. Skipping ...\n",
      "Processing Record 6 of 5 | Vestmannaeyjar\n",
      "Processing Record 7 of 5 | Arraial do Cabo\n",
      "city not found. Skipping ...\n",
      "Processing Record 8 of 5 | Mandalgovi\n",
      "city not found. Skipping ...\n",
      "Processing Record 9 of 5 | Doaba\n",
      "Processing Record 10 of 5 | Puerto Escondido\n",
      "Processing Record 11 of 5 | Tarija\n",
      "Processing Record 12 of 5 | Urk\n",
      "Processing Record 13 of 5 | Maţāy\n",
      "city not found. Skipping ...\n",
      "Processing Record 14 of 5 | George\n",
      "Processing Record 15 of 5 | Chapada dos Guimarães\n",
      "city not found. Skipping ...\n",
      "Processing Record 16 of 5 | Lukulu\n",
      "Processing Record 17 of 5 | Mayumba\n",
      "city not found. Skipping ...\n",
      "Processing Record 18 of 5 | Kahului\n",
      "Processing Record 19 of 5 | Mayo\n",
      "Processing Record 20 of 5 | Rome\n",
      "Processing Record 21 of 5 | Neuquén\n",
      "city not found. Skipping ...\n",
      "Processing Record 22 of 5 | Dudinka\n",
      "Processing Record 23 of 5 | Buala\n",
      "Processing Record 24 of 5 | Slave Lake\n",
      "Processing Record 25 of 5 | Senneterre\n",
      "Processing Record 26 of 5 | Saskylakh\n",
      "Processing Record 27 of 5 | Zyryanka\n",
      "city not found. Skipping ...\n",
      "Processing Record 28 of 5 | Araguaína\n",
      "Processing Record 29 of 5 | Husavik\n",
      "Processing Record 30 of 5 | Nantucket\n",
      "Processing Record 31 of 5 | Isangel\n",
      "Processing Record 32 of 5 | Prince George\n",
      "Processing Record 33 of 5 | Dutlwe\n",
      "Processing Record 34 of 5 | Necochea\n",
      "Processing Record 35 of 5 | San Cristobal\n",
      "Processing Record 36 of 5 | Harper\n",
      "Processing Record 37 of 5 | Pangnirtung\n",
      "Processing Record 38 of 5 | Cidreira\n",
      "Processing Record 39 of 5 | Khovd\n",
      "Processing Record 40 of 5 | Upernavik\n",
      "Processing Record 41 of 5 | Archidona\n",
      "Processing Record 42 of 5 | Bouaké\n",
      "Processing Record 43 of 5 | Nelson Bay\n",
      "Processing Record 44 of 5 | Ha Tinh\n",
      "Processing Record 45 of 5 | Almeirim\n",
      "Processing Record 46 of 5 | Hasaki\n",
      "Processing Record 47 of 5 | Tautira\n",
      "Processing Record 48 of 5 | Saint-Joseph\n",
      "Processing Record 49 of 5 | Belaya Gora\n",
      "Processing Record 50 of 5 | Pahrump\n",
      "Processing Record 0 of 6 | Ketchikan\n",
      "Processing Record 1 of 6 | Maraã\n",
      "Processing Record 2 of 6 | Qasigiannguit\n",
      "Processing Record 3 of 6 | Ribeira Grande\n",
      "Processing Record 4 of 6 | Bathsheba\n",
      "Processing Record 5 of 6 | Novopokrovka\n",
      "city not found. Skipping ...\n",
      "Processing Record 6 of 6 | Lakhdenpokh'ya\n",
      "Processing Record 7 of 6 | Alihe\n",
      "Processing Record 8 of 6 | Bambous Virieux\n",
      "Processing Record 9 of 6 | Yaransk\n",
      "Processing Record 10 of 6 | Noshiro\n",
      "Processing Record 11 of 6 | Mbaïki\n",
      "city not found. Skipping ...\n",
      "city not found. Skipping ...\n",
      "Processing Record 12 of 6 | Sorong\n",
      "Processing Record 13 of 6 | Ilave\n",
      "Processing Record 14 of 6 | Kyshtovka\n",
      "Processing Record 15 of 6 | Ranong\n",
      "Processing Record 16 of 6 | Río Gallegos\n",
      "Processing Record 17 of 6 | Tazovsky\n",
      "Processing Record 18 of 6 | Bengkulu\n",
      "city not found. Skipping ...\n",
      "Processing Record 19 of 6 | Palmas Bellas\n",
      "Processing Record 20 of 6 | Big Spring\n",
      "Processing Record 21 of 6 | Haines Junction\n",
      "Processing Record 22 of 6 | Mount Gambier\n",
      "Processing Record 23 of 6 | Goderich\n",
      "Processing Record 24 of 6 | Tsimmerbude\n",
      "Processing Record 25 of 6 | Comodoro Rivadavia\n",
      "Processing Record 26 of 6 | Plettenberg Bay\n",
      "Processing Record 27 of 6 | Lorengau\n",
      "Processing Record 28 of 6 | Prince Rupert\n",
      "Processing Record 29 of 6 | Uvalde\n",
      "Processing Record 30 of 6 | Poum\n",
      "Processing Record 31 of 6 | Hambantota\n",
      "Processing Record 32 of 6 | Goba\n",
      "Processing Record 33 of 6 | Tranås\n",
      "Processing Record 34 of 6 | Kapuskasing\n",
      "Processing Record 35 of 6 | Aloleng\n",
      "Processing Record 36 of 6 | Samarai\n",
      "Processing Record 37 of 6 | Airai\n",
      "city not found. Skipping ...\n",
      "Processing Record 38 of 6 | Longyearbyen\n",
      "city not found. Skipping ...\n",
      "Processing Record 39 of 6 | Hervey Bay\n",
      "Processing Record 40 of 6 | Lavrentiya\n",
      "Processing Record 41 of 6 | Våler\n",
      "Processing Record 42 of 6 | Alofi\n",
      "Processing Record 43 of 6 | Aleksandrov Gay\n",
      "Processing Record 44 of 6 | Flinders\n",
      "Processing Record 45 of 6 | Santander\n",
      "city not found. Skipping ...\n",
      "Processing Record 46 of 6 | Namatanai\n",
      "Processing Record 47 of 6 | Petropavlovsk-Kamchatskiy\n",
      "Processing Record 48 of 6 | Moyale\n",
      "Processing Record 49 of 6 | St. George's\n",
      "Processing Record 50 of 6 | Karasjok\n",
      "Processing Record 0 of 7 | Boueni\n",
      "Processing Record 1 of 7 | Shache\n",
      "Processing Record 2 of 7 | Parkersburg\n",
      "Processing Record 3 of 7 | Nizwá\n",
      "Processing Record 4 of 7 | Bastrop\n",
      "Processing Record 5 of 7 | Cherepovets\n",
      "Processing Record 6 of 7 | Liwale\n",
      "Processing Record 7 of 7 | Kawai\n",
      "city not found. Skipping ...\n",
      "Processing Record 8 of 7 | Mossamedes\n",
      "Processing Record 9 of 7 | San Miguel de Tucumán\n",
      "Processing Record 10 of 7 | Chipinge\n",
      "Processing Record 11 of 7 | Eenhana\n",
      "Processing Record 12 of 7 | Yulara\n",
      "Processing Record 13 of 7 | Watford\n",
      "Processing Record 14 of 7 | Clyde River\n",
      "Processing Record 15 of 7 | Thinadhoo\n",
      "Processing Record 16 of 7 | Kathmandu\n",
      "Processing Record 17 of 7 | Hokitika\n",
      "Processing Record 18 of 7 | Gopālpur\n",
      "Processing Record 19 of 7 | Bagé\n",
      "Processing Record 20 of 7 | Ahipara\n",
      "Processing Record 21 of 7 | Ouésso\n",
      "Processing Record 22 of 7 | Severnoye\n",
      "Processing Record 23 of 7 | Korla\n",
      "Processing Record 24 of 7 | Anadyr\n",
      "Processing Record 25 of 7 | Kerman\n",
      "Processing Record 26 of 7 | Konstantinovka\n",
      "Processing Record 27 of 7 | Morant Bay\n",
      "Processing Record 28 of 7 | Portland\n",
      "Processing Record 29 of 7 | Bijni\n",
      "Processing Record 30 of 7 | Mana\n",
      "Processing Record 31 of 7 | Non Sang\n",
      "Processing Record 32 of 7 | Conceição do Araguaia\n",
      "Processing Record 33 of 7 | Vanimo\n",
      "Processing Record 34 of 7 | Yining\n",
      "Processing Record 35 of 7 | Vardø\n",
      "Processing Record 36 of 7 | Dicabisagan\n",
      "city not found. Skipping ...\n",
      "Processing Record 37 of 7 | Vila\n",
      "Processing Record 38 of 7 | Beloha\n",
      "Processing Record 39 of 7 | Punta Alta\n",
      "Processing Record 40 of 7 | Quatre Cocos\n",
      "Processing Record 41 of 7 | Tereze\n",
      "Processing Record 42 of 7 | Ordu\n",
      "Processing Record 43 of 7 | Yurimaguas\n",
      "Processing Record 44 of 7 | Gushikawa\n",
      "Processing Record 45 of 7 | Bithūr\n",
      "Processing Record 46 of 7 | Callaway\n",
      "Processing Record 47 of 7 | Kulu\n",
      "Processing Record 48 of 7 | Rio Branco do Sul\n",
      "Processing Record 49 of 7 | Lima\n",
      "Processing Record 50 of 7 | Birjand\n",
      "Processing Record 0 of 8 | São Filipe\n",
      "Processing Record 1 of 8 | Hailey\n",
      "Processing Record 2 of 8 | Potoru\n",
      "Processing Record 3 of 8 | Krasnoborsk\n",
      "Processing Record 4 of 8 | Surgut\n",
      "Processing Record 5 of 8 | Vila Franca do Campo\n",
      "Processing Record 6 of 8 | Yar-Sale\n",
      "Processing Record 7 of 8 | Mangan\n",
      "Processing Record 8 of 8 | Baghdad\n",
      "Processing Record 9 of 8 | Aasiaat\n",
      "Processing Record 10 of 8 | High Level\n",
      "Processing Record 11 of 8 | Emerald\n",
      "Processing Record 12 of 8 | Jardim\n",
      "Processing Record 13 of 8 | Mitsamiouli\n",
      "Processing Record 14 of 8 | Eha Amufu\n",
      "Processing Record 15 of 8 | Gorontalo\n",
      "Processing Record 16 of 8 | Podor\n",
      "Processing Record 17 of 8 | Barra do Garças\n",
      "Processing Record 18 of 8 | Kudahuvadhoo\n",
      "Processing Record 19 of 8 | Morón\n",
      "Processing Record 20 of 8 | Gao\n",
      "Processing Record 21 of 8 | Fort-Shevchenko\n",
      "Processing Record 22 of 8 | Buchanan\n",
      "Processing Record 23 of 8 | Zhigansk\n",
      "Processing Record 24 of 8 | Dauriya\n",
      "Processing Record 25 of 8 | Puri\n",
      "Processing Record 26 of 8 | Srednekolymsk\n",
      "Processing Record 27 of 8 | Saint-Lô\n",
      "Processing Record 28 of 8 | Naryan-Mar\n",
      "Processing Record 29 of 8 | Southbridge\n",
      "Processing Record 30 of 8 | Sabha\n",
      "Processing Record 31 of 8 | Sisimiut\n",
      "Processing Record 32 of 8 | Aksu\n",
      "Processing Record 33 of 8 | Vetlanda\n",
      "Processing Record 34 of 8 | Putina\n",
      "Processing Record 35 of 8 | Bukama\n",
      "Processing Record 36 of 8 | Kortkeros\n",
      "Processing Record 37 of 8 | Calatayud\n",
      "Processing Record 38 of 8 | Ankpa\n",
      "Processing Record 39 of 8 | Suntar\n",
      "Processing Record 40 of 8 | Senanga\n",
      "Processing Record 41 of 8 | Ulagan\n",
      "Processing Record 42 of 8 | Road Town\n",
      "Processing Record 43 of 8 | Magadan\n",
      "Processing Record 44 of 8 | Dingle\n",
      "Processing Record 45 of 8 | Sibu\n",
      "Processing Record 46 of 8 | Perth\n",
      "Processing Record 47 of 8 | Zabaykal'sk\n",
      "Processing Record 48 of 8 | Barranca de Upía\n",
      "Processing Record 49 of 8 | Sola\n",
      "Processing Record 50 of 8 | El Porvenir\n",
      "Processing Record 0 of 9 | Mar del Plata\n",
      "Processing Record 1 of 9 | Cochrane\n",
      "Processing Record 2 of 9 | Salym\n",
      "Processing Record 3 of 9 | Whitianga\n",
      "Processing Record 4 of 9 | Shingū\n",
      "Processing Record 5 of 9 | Waingapu\n",
      "Processing Record 6 of 9 | Weyburn\n",
      "Processing Record 7 of 9 | Mount Isa\n"
     ]
    },
    {
     "name": "stdout",
     "output_type": "stream",
     "text": [
      "Processing Record 8 of 9 | Palana\n",
      "Processing Record 9 of 9 | Taltal\n",
      "Processing Record 10 of 9 | Kuopio\n",
      "Processing Record 11 of 9 | Vero Beach\n",
      "Processing Record 12 of 9 | Aswān\n",
      "Processing Record 13 of 9 | Imphal\n",
      "city not found. Skipping ...\n",
      "Processing Record 14 of 9 | Broome\n",
      "Processing Record 15 of 9 | Guiratinga\n",
      "Processing Record 16 of 9 | Yangi Marg`ilon\n",
      "Processing Record 17 of 9 | Krasnovishersk\n",
      "Processing Record 18 of 9 | Abnūb\n",
      "city not found. Skipping ...\n",
      "Processing Record 19 of 9 | Sangar\n",
      "Processing Record 20 of 9 | Skała\n",
      "Processing Record 21 of 9 | Zonguldak\n",
      "Processing Record 22 of 9 | Dalby\n",
      "Processing Record 23 of 9 | Kulhudhuffushi\n",
      "city not found. Skipping ...\n",
      "Processing Record 24 of 9 | Manatí\n",
      "Processing Record 25 of 9 | Mananjary\n",
      "Processing Record 26 of 9 | Birobidzhan\n",
      "Processing Record 27 of 9 | Port Macquarie\n",
      "Processing Record 28 of 9 | Manicoré\n",
      "Processing Record 29 of 9 | Jumla\n",
      "Processing Record 30 of 9 | Olafsvik\n",
      "Processing Record 31 of 9 | Barcelos\n",
      "Processing Record 32 of 9 | Ouadda\n",
      "Processing Record 33 of 9 | Lagoa\n",
      "Processing Record 34 of 9 | Camanducaia\n",
      "Processing Record 35 of 9 | Aksarka\n",
      "Processing Record 36 of 9 | Viedma\n",
      "Processing Record 37 of 9 | Bismarck\n",
      "Processing Record 38 of 9 | Nome\n",
      "Processing Record 39 of 9 | Gizo Government Station\n",
      "Processing Record 40 of 9 | Mangalore\n",
      "Processing Record 41 of 9 | Yerofey Pavlovich\n",
      "Processing Record 42 of 9 | Dakar\n",
      "Processing Record 43 of 9 | Raul Soares\n",
      "Processing Record 44 of 9 | Nemuro\n",
      "Processing Record 45 of 9 | Alyangula\n",
      "city not found. Skipping ...\n",
      "city not found. Skipping ...\n",
      "Processing Record 46 of 9 | Talcahuano\n",
      "Processing Record 47 of 9 | Coquimbo\n",
      "Processing Record 48 of 9 | Port Jervis\n",
      "Processing Record 49 of 9 | Pachino\n",
      "Processing Record 50 of 9 | Inhambane\n",
      "Processing Record 0 of 10 | Province of Mantua\n",
      "Processing Record 1 of 10 | Port-Gentil\n",
      "Processing Record 2 of 10 | Hualmay\n",
      "Processing Record 3 of 10 | Bubaque\n",
      "Processing Record 4 of 10 | Marabu\n",
      "Processing Record 5 of 10 | Kieta\n",
      "Processing Record 6 of 10 | Reconquista\n",
      "Processing Record 7 of 10 | Lac du Bonnet\n",
      "Processing Record 8 of 10 | Chicama\n",
      "Processing Record 9 of 10 | Biak\n",
      "Processing Record 10 of 10 | Faya\n",
      "Processing Record 11 of 10 | Pingzhuang\n",
      "Processing Record 12 of 10 | La Primavera\n",
      "Processing Record 13 of 10 | Øystese\n",
      "Processing Record 14 of 10 | Nur-Sultan\n",
      "Processing Record 15 of 10 | Zahir Pir\n",
      "Processing Record 16 of 10 | Waipawa\n",
      "Processing Record 17 of 10 | San Juan\n",
      "Processing Record 18 of 10 | Hołoby\n",
      "Processing Record 19 of 10 | Agüimes\n",
      "Processing Record 20 of 10 | Lapeer\n",
      "Processing Record 21 of 10 | Port Blair\n",
      "Processing Record 22 of 10 | Almaznyy\n",
      "Processing Record 23 of 10 | Upata\n",
      "Processing Record 24 of 10 | Bambanglipuro\n",
      "Processing Record 25 of 10 | Imeni Poliny Osipenko\n",
      "Processing Record 26 of 10 | Katsuura\n",
      "Processing Record 27 of 10 | Aykhal\n",
      "city not found. Skipping ...\n",
      "Processing Record 28 of 10 | Naze\n",
      "Processing Record 29 of 10 | Hay River\n",
      "Processing Record 30 of 10 | Acajutla\n",
      "Processing Record 31 of 10 | Alekseyevsk\n",
      "Processing Record 32 of 10 | College\n",
      "city not found. Skipping ...\n",
      "Processing Record 33 of 10 | Hofn\n",
      "Processing Record 34 of 10 | Gold Coast\n",
      "Processing Record 35 of 10 | Rundu\n",
      "Processing Record 36 of 10 | Olhão\n",
      "Processing Record 37 of 10 | Tongchuanshi\n",
      "Processing Record 38 of 10 | Tirur\n",
      "Processing Record 39 of 10 | Brattleboro\n",
      "Processing Record 40 of 10 | Matagami\n",
      "Processing Record 41 of 10 | Sekoma\n",
      "Processing Record 42 of 10 | Griffith\n",
      "Processing Record 43 of 10 | Kolyvan'\n",
      "Processing Record 44 of 10 | Havelock\n",
      "Processing Record 45 of 10 | Mariehamn\n",
      "Processing Record 46 of 10 | Lompoc\n",
      "Processing Record 47 of 10 | Yeppoon\n",
      "city not found. Skipping ...\n",
      "city not found. Skipping ...\n",
      "Processing Record 48 of 10 | Suoyarvi\n",
      "Processing Record 49 of 10 | Rawson\n",
      "Processing Record 50 of 10 | Batagay-Alyta\n",
      "city not found. Skipping ...\n",
      "Processing Record 0 of 11 | Oktyabr'skiy\n",
      "Processing Record 1 of 11 | Moroni\n",
      "Processing Record 2 of 11 | Spokane\n",
      "Processing Record 3 of 11 | Bermejo\n",
      "Processing Record 4 of 11 | Pechenga\n",
      "Processing Record 5 of 11 | Soyo\n",
      "Processing Record 6 of 11 | Yermakovskoye\n",
      "Processing Record 7 of 11 | Johnstown\n",
      "Processing Record 8 of 11 | Whitehorse\n",
      "Processing Record 9 of 11 | Crixás\n",
      "Processing Record 10 of 11 | Dhidhdhoo\n",
      "Processing Record 11 of 11 | Songjianghe\n",
      "Processing Record 12 of 11 | Potenza\n",
      "Processing Record 13 of 11 | Cayenne\n",
      "Processing Record 14 of 11 | Ossora\n",
      "city not found. Skipping ...\n",
      "Processing Record 15 of 11 | Henties Bay\n",
      "Processing Record 16 of 11 | Moranbah\n",
      "Processing Record 17 of 11 | Erdaojiang\n",
      "Processing Record 18 of 11 | Evensk\n",
      "city not found. Skipping ...\n",
      "Processing Record 19 of 11 | Provideniya\n",
      "Processing Record 20 of 11 | Muş Province\n",
      "Processing Record 21 of 11 | Gimli\n",
      "Processing Record 22 of 11 | Katherine\n",
      "Processing Record 23 of 11 | Vanderhoof\n",
      "Processing Record 24 of 11 | Pisco\n",
      "Processing Record 25 of 11 | Eureka\n",
      "Processing Record 26 of 11 | Vila Velha\n",
      "Processing Record 27 of 11 | Sampit\n",
      "Processing Record 28 of 11 | Taoudenni\n",
      "Processing Record 29 of 11 | Zeya\n",
      "Processing Record 30 of 11 | Karlstad\n",
      "Processing Record 31 of 11 | Lopburi\n",
      "Processing Record 32 of 11 | Cravo Norte\n",
      "Processing Record 33 of 11 | Makkah al Mukarramah\n",
      "city not found. Skipping ...\n",
      "Processing Record 34 of 11 | Pakenham\n",
      "Processing Record 35 of 11 | Sinaia\n",
      "Processing Record 36 of 11 | Bandarbeyla\n",
      "Processing Record 37 of 11 | Kuchinda\n",
      "Processing Record 38 of 11 | Belmonte\n",
      "Processing Record 39 of 11 | Havre-St-Pierre\n",
      "Processing Record 40 of 11 | Mocuba\n",
      "city not found. Skipping ...\n",
      "Processing Record 41 of 11 | Camacha\n",
      "Processing Record 42 of 11 | Akureyri\n",
      "Processing Record 43 of 11 | Nizhniy Kuranakh\n",
      "Processing Record 44 of 11 | Mwense\n",
      "Processing Record 45 of 11 | Ürümqi\n",
      "Processing Record 46 of 11 | Point Pedro\n",
      "Processing Record 47 of 11 | Esperance\n",
      "Processing Record 48 of 11 | Gouyave\n",
      "Processing Record 49 of 11 | Fenoarivo\n",
      "city not found. Skipping ...\n",
      "Processing Record 50 of 11 | Grand-Santi\n",
      "Processing Record 0 of 12 | Øksfjord\n",
      "Processing Record 1 of 12 | Pio IX\n",
      "Processing Record 2 of 12 | Turukhansk\n",
      "Processing Record 3 of 12 | Moelv\n",
      "Processing Record 4 of 12 | Bunia\n",
      "Processing Record 5 of 12 | Yakeshi\n",
      "Processing Record 6 of 12 | Luwuk\n",
      "Processing Record 7 of 12 | Lupiro\n",
      "city not found. Skipping ...\n",
      "Processing Record 8 of 12 | Hamilton\n",
      "Processing Record 9 of 12 | Soe\n",
      "Processing Record 10 of 12 | Ilām\n",
      "city not found. Skipping ...\n",
      "Processing Record 11 of 12 | Cairns\n",
      "Processing Record 12 of 12 | Staryy Nadym\n",
      "Processing Record 13 of 12 | Severo-Yeniseyskiy\n",
      "Processing Record 14 of 12 | Garbolovo\n",
      "Processing Record 15 of 12 | Broken Hill\n",
      "Processing Record 16 of 12 | Hobyo\n",
      "city not found. Skipping ...\n",
      "Processing Record 17 of 12 | La Santisima Trinidad\n",
      "Processing Record 18 of 12 | Ubari\n",
      "Processing Record 19 of 12 | Los Llanos de Aridane\n",
      "Processing Record 20 of 12 | Lexington\n",
      "Processing Record 21 of 12 | Huron\n",
      "-------------------------\n",
      "Data Retrieval Complete\n",
      "-------------------------\n"
     ]
    }
   ],
   "source": [
    "# set up empty lists for needed characters\n",
    "city_id = []\n",
    "city_name = []\n",
    "cloudiness = []\n",
    "country = []\n",
    "date = []\n",
    "humidity = []\n",
    "lat = []\n",
    "lng = []\n",
    "max_temp = []\n",
    "wind_speed = []\n",
    "processingRecord = 0\n",
    "setNumber = 1\n",
    "\n",
    "#start processing record at 1\n",
    "processingRecord = 1\n",
    "setNumber = 1\n",
    "\n",
    "print(\"Beginning Data Retrieval\")\n",
    "print(\"-------------------------\")\n",
    "\n",
    "# loop through each city\n",
    "for city in cities:\n",
    "    \n",
    "#Exception handling\n",
    "    try:\n",
    "        response = requests.get(queryURL + city).json()\n",
    "        city_id.append(response['id'])\n",
    "        city_name.append(response['name']) \n",
    "        cloudiness.append(response['clouds']['all'])\n",
    "        country.append(response['sys']['country'])\n",
    "        date.append(response['dt'])\n",
    "        humidity.append(response['main']['humidity']) \n",
    "        lat.append(response['coord']['lat'])\n",
    "        lng.append(response['coord']['lon'])\n",
    "        max_temp.append(response['main']['temp_max']) \n",
    "        wind_speed.append(response['wind']['speed'])\n",
    "        cityResponse = response['name']   \n",
    "        if processingRecord > 49:\n",
    "            processingRecord = 0\n",
    "            setNumber = setNumber + 1\n",
    "    \n",
    "        else:\n",
    "            processingRecord = processingRecord + 1\n",
    "\n",
    "        print(f\"Processing Record {processingRecord} of {setNumber} | {cityResponse}\")\n",
    "        \n",
    "    except:\n",
    "        print(\"city not found. Skipping ...\")\n",
    "    continue\n",
    "    \n",
    "print(\"-------------------------\")\n",
    "print(\"Data Retrieval Complete\")\n",
    "print(\"-------------------------\")"
   ]
  },
  {
   "cell_type": "markdown",
   "metadata": {},
   "source": [
    "### Convert Raw Data to DataFrame\n",
    "* Export the city data into a .csv.\n",
    "* Display the DataFrame"
   ]
  },
  {
   "cell_type": "code",
   "execution_count": 5,
   "metadata": {},
   "outputs": [
    {
     "data": {
      "text/html": [
       "<div>\n",
       "<style scoped>\n",
       "    .dataframe tbody tr th:only-of-type {\n",
       "        vertical-align: middle;\n",
       "    }\n",
       "\n",
       "    .dataframe tbody tr th {\n",
       "        vertical-align: top;\n",
       "    }\n",
       "\n",
       "    .dataframe thead th {\n",
       "        text-align: right;\n",
       "    }\n",
       "</style>\n",
       "<table border=\"1\" class=\"dataframe\">\n",
       "  <thead>\n",
       "    <tr style=\"text-align: right;\">\n",
       "      <th></th>\n",
       "      <th>City ID</th>\n",
       "      <th>City Name</th>\n",
       "      <th>Cloudiness</th>\n",
       "      <th>Country</th>\n",
       "      <th>Date</th>\n",
       "      <th>Humidity</th>\n",
       "      <th>Latitude</th>\n",
       "      <th>Longitude</th>\n",
       "      <th>Max Temperature</th>\n",
       "      <th>Wind Speed</th>\n",
       "    </tr>\n",
       "  </thead>\n",
       "  <tbody>\n",
       "    <tr>\n",
       "      <th>0</th>\n",
       "      <td>2126123</td>\n",
       "      <td>Chokurdakh</td>\n",
       "      <td>40</td>\n",
       "      <td>RU</td>\n",
       "      <td>1658710728</td>\n",
       "      <td>34</td>\n",
       "      <td>70.6333</td>\n",
       "      <td>147.9167</td>\n",
       "      <td>69.31</td>\n",
       "      <td>11.30</td>\n",
       "    </tr>\n",
       "    <tr>\n",
       "      <th>1</th>\n",
       "      <td>3435038</td>\n",
       "      <td>Dolores</td>\n",
       "      <td>100</td>\n",
       "      <td>AR</td>\n",
       "      <td>1658710773</td>\n",
       "      <td>91</td>\n",
       "      <td>-36.3132</td>\n",
       "      <td>-57.6792</td>\n",
       "      <td>51.76</td>\n",
       "      <td>10.18</td>\n",
       "    </tr>\n",
       "    <tr>\n",
       "      <th>2</th>\n",
       "      <td>3833367</td>\n",
       "      <td>Ushuaia</td>\n",
       "      <td>40</td>\n",
       "      <td>AR</td>\n",
       "      <td>1658710585</td>\n",
       "      <td>64</td>\n",
       "      <td>-54.8000</td>\n",
       "      <td>-68.3000</td>\n",
       "      <td>35.26</td>\n",
       "      <td>5.75</td>\n",
       "    </tr>\n",
       "    <tr>\n",
       "      <th>3</th>\n",
       "      <td>5122534</td>\n",
       "      <td>Jamestown</td>\n",
       "      <td>97</td>\n",
       "      <td>US</td>\n",
       "      <td>1658710725</td>\n",
       "      <td>83</td>\n",
       "      <td>42.0970</td>\n",
       "      <td>-79.2353</td>\n",
       "      <td>74.79</td>\n",
       "      <td>5.99</td>\n",
       "    </tr>\n",
       "    <tr>\n",
       "      <th>4</th>\n",
       "      <td>2246901</td>\n",
       "      <td>Oussouye</td>\n",
       "      <td>73</td>\n",
       "      <td>SN</td>\n",
       "      <td>1658710773</td>\n",
       "      <td>88</td>\n",
       "      <td>12.4850</td>\n",
       "      <td>-16.5469</td>\n",
       "      <td>75.29</td>\n",
       "      <td>3.69</td>\n",
       "    </tr>\n",
       "  </tbody>\n",
       "</table>\n",
       "</div>"
      ],
      "text/plain": [
       "   City ID   City Name  Cloudiness Country        Date  Humidity  Latitude  \\\n",
       "0  2126123  Chokurdakh          40      RU  1658710728        34   70.6333   \n",
       "1  3435038     Dolores         100      AR  1658710773        91  -36.3132   \n",
       "2  3833367     Ushuaia          40      AR  1658710585        64  -54.8000   \n",
       "3  5122534   Jamestown          97      US  1658710725        83   42.0970   \n",
       "4  2246901    Oussouye          73      SN  1658710773        88   12.4850   \n",
       "\n",
       "   Longitude  Max Temperature  Wind Speed  \n",
       "0   147.9167            69.31       11.30  \n",
       "1   -57.6792            51.76       10.18  \n",
       "2   -68.3000            35.26        5.75  \n",
       "3   -79.2353            74.79        5.99  \n",
       "4   -16.5469            75.29        3.69  "
      ]
     },
     "execution_count": 5,
     "metadata": {},
     "output_type": "execute_result"
    }
   ],
   "source": [
    "weatherDict = {\n",
    "    \"City ID\":city_id, \n",
    "    \"City Name\":city_name, \n",
    "    \"Cloudiness\":cloudiness,\n",
    "    \"Country\":country, \n",
    "    \"Date\":date, \n",
    "    \"Humidity\":humidity,\n",
    "    \"Latitude\":lat,\n",
    "    \"Longitude\":lng, \n",
    "    \"Max Temperature\":max_temp,\n",
    "    \"Wind Speed\":wind_speed\n",
    "}\n",
    "weatherDict = pd.DataFrame(weatherDict)\n",
    "weatherDict.head()"
   ]
  },
  {
   "cell_type": "code",
   "execution_count": 6,
   "metadata": {},
   "outputs": [
    {
     "data": {
      "text/plain": [
       "City ID            581\n",
       "City Name          581\n",
       "Cloudiness         581\n",
       "Country            581\n",
       "Date               581\n",
       "Humidity           581\n",
       "Latitude           581\n",
       "Longitude          581\n",
       "Max Temperature    581\n",
       "Wind Speed         581\n",
       "dtype: int64"
      ]
     },
     "execution_count": 6,
     "metadata": {},
     "output_type": "execute_result"
    }
   ],
   "source": [
    "weatherDict.count()"
   ]
  },
  {
   "cell_type": "code",
   "execution_count": 7,
   "metadata": {},
   "outputs": [],
   "source": [
    "weatherDict.to_csv(\"output_data/weatherDict.csv\")"
   ]
  },
  {
   "cell_type": "markdown",
   "metadata": {},
   "source": [
    "## Inspect the data and remove the cities where the humidity > 100%.\n",
    "----\n",
    "Skip this step if there are no cities that have humidity > 100%. "
   ]
  },
  {
   "cell_type": "code",
   "execution_count": 8,
   "metadata": {},
   "outputs": [
    {
     "data": {
      "text/html": [
       "<div>\n",
       "<style scoped>\n",
       "    .dataframe tbody tr th:only-of-type {\n",
       "        vertical-align: middle;\n",
       "    }\n",
       "\n",
       "    .dataframe tbody tr th {\n",
       "        vertical-align: top;\n",
       "    }\n",
       "\n",
       "    .dataframe thead th {\n",
       "        text-align: right;\n",
       "    }\n",
       "</style>\n",
       "<table border=\"1\" class=\"dataframe\">\n",
       "  <thead>\n",
       "    <tr style=\"text-align: right;\">\n",
       "      <th></th>\n",
       "      <th>City ID</th>\n",
       "      <th>Cloudiness</th>\n",
       "      <th>Date</th>\n",
       "      <th>Humidity</th>\n",
       "      <th>Latitude</th>\n",
       "      <th>Longitude</th>\n",
       "      <th>Max Temperature</th>\n",
       "      <th>Wind Speed</th>\n",
       "    </tr>\n",
       "  </thead>\n",
       "  <tbody>\n",
       "    <tr>\n",
       "      <th>count</th>\n",
       "      <td>5.740000e+02</td>\n",
       "      <td>574.000000</td>\n",
       "      <td>5.740000e+02</td>\n",
       "      <td>574.000000</td>\n",
       "      <td>574.000000</td>\n",
       "      <td>574.000000</td>\n",
       "      <td>574.000000</td>\n",
       "      <td>574.000000</td>\n",
       "    </tr>\n",
       "    <tr>\n",
       "      <th>mean</th>\n",
       "      <td>2.750370e+06</td>\n",
       "      <td>53.757840</td>\n",
       "      <td>1.658711e+09</td>\n",
       "      <td>71.926829</td>\n",
       "      <td>20.043480</td>\n",
       "      <td>17.300970</td>\n",
       "      <td>68.997265</td>\n",
       "      <td>7.294286</td>\n",
       "    </tr>\n",
       "    <tr>\n",
       "      <th>std</th>\n",
       "      <td>1.707141e+06</td>\n",
       "      <td>40.447828</td>\n",
       "      <td>7.234024e+01</td>\n",
       "      <td>20.485679</td>\n",
       "      <td>33.919481</td>\n",
       "      <td>91.334682</td>\n",
       "      <td>13.594651</td>\n",
       "      <td>4.904864</td>\n",
       "    </tr>\n",
       "    <tr>\n",
       "      <th>min</th>\n",
       "      <td>5.700000e+04</td>\n",
       "      <td>0.000000</td>\n",
       "      <td>1.658710e+09</td>\n",
       "      <td>1.000000</td>\n",
       "      <td>-54.800000</td>\n",
       "      <td>-175.200000</td>\n",
       "      <td>26.650000</td>\n",
       "      <td>0.000000</td>\n",
       "    </tr>\n",
       "    <tr>\n",
       "      <th>25%</th>\n",
       "      <td>1.513188e+06</td>\n",
       "      <td>8.000000</td>\n",
       "      <td>1.658711e+09</td>\n",
       "      <td>63.000000</td>\n",
       "      <td>-9.659775</td>\n",
       "      <td>-65.351300</td>\n",
       "      <td>58.950000</td>\n",
       "      <td>3.717500</td>\n",
       "    </tr>\n",
       "    <tr>\n",
       "      <th>50%</th>\n",
       "      <td>2.206884e+06</td>\n",
       "      <td>59.500000</td>\n",
       "      <td>1.658711e+09</td>\n",
       "      <td>77.000000</td>\n",
       "      <td>26.340200</td>\n",
       "      <td>23.254350</td>\n",
       "      <td>70.855000</td>\n",
       "      <td>6.070000</td>\n",
       "    </tr>\n",
       "    <tr>\n",
       "      <th>75%</th>\n",
       "      <td>3.799287e+06</td>\n",
       "      <td>99.000000</td>\n",
       "      <td>1.658711e+09</td>\n",
       "      <td>87.000000</td>\n",
       "      <td>49.566750</td>\n",
       "      <td>96.932125</td>\n",
       "      <td>79.997500</td>\n",
       "      <td>9.762500</td>\n",
       "    </tr>\n",
       "    <tr>\n",
       "      <th>max</th>\n",
       "      <td>1.072286e+07</td>\n",
       "      <td>100.000000</td>\n",
       "      <td>1.658711e+09</td>\n",
       "      <td>99.000000</td>\n",
       "      <td>78.218600</td>\n",
       "      <td>179.316700</td>\n",
       "      <td>101.880000</td>\n",
       "      <td>29.040000</td>\n",
       "    </tr>\n",
       "  </tbody>\n",
       "</table>\n",
       "</div>"
      ],
      "text/plain": [
       "            City ID  Cloudiness          Date    Humidity    Latitude  \\\n",
       "count  5.740000e+02  574.000000  5.740000e+02  574.000000  574.000000   \n",
       "mean   2.750370e+06   53.757840  1.658711e+09   71.926829   20.043480   \n",
       "std    1.707141e+06   40.447828  7.234024e+01   20.485679   33.919481   \n",
       "min    5.700000e+04    0.000000  1.658710e+09    1.000000  -54.800000   \n",
       "25%    1.513188e+06    8.000000  1.658711e+09   63.000000   -9.659775   \n",
       "50%    2.206884e+06   59.500000  1.658711e+09   77.000000   26.340200   \n",
       "75%    3.799287e+06   99.000000  1.658711e+09   87.000000   49.566750   \n",
       "max    1.072286e+07  100.000000  1.658711e+09   99.000000   78.218600   \n",
       "\n",
       "        Longitude  Max Temperature  Wind Speed  \n",
       "count  574.000000       574.000000  574.000000  \n",
       "mean    17.300970        68.997265    7.294286  \n",
       "std     91.334682        13.594651    4.904864  \n",
       "min   -175.200000        26.650000    0.000000  \n",
       "25%    -65.351300        58.950000    3.717500  \n",
       "50%     23.254350        70.855000    6.070000  \n",
       "75%     96.932125        79.997500    9.762500  \n",
       "max    179.316700       101.880000   29.040000  "
      ]
     },
     "execution_count": 8,
     "metadata": {},
     "output_type": "execute_result"
    }
   ],
   "source": [
    "maxHumid = weatherDict.loc[weatherDict['Humidity'] != 100]\n",
    "maxHumid.describe()"
   ]
  },
  {
   "cell_type": "code",
   "execution_count": 9,
   "metadata": {},
   "outputs": [
    {
     "data": {
      "text/plain": [
       "City ID            574\n",
       "City Name          574\n",
       "Cloudiness         574\n",
       "Country            574\n",
       "Date               574\n",
       "Humidity           574\n",
       "Latitude           574\n",
       "Longitude          574\n",
       "Max Temperature    574\n",
       "Wind Speed         574\n",
       "dtype: int64"
      ]
     },
     "execution_count": 9,
     "metadata": {},
     "output_type": "execute_result"
    }
   ],
   "source": [
    "#  Get the indices of cities that have humidity over 100%.\n",
    "maxHumid.count()"
   ]
  },
  {
   "cell_type": "code",
   "execution_count": 10,
   "metadata": {},
   "outputs": [],
   "source": [
    "# Make a new DataFrame equal to the city data to drop all humidity outliers by index.\n",
    "# Passing \"inplace=False\" will make a copy of the city_data DataFrame, which we call \"clean_city_data\".\n"
   ]
  },
  {
   "cell_type": "code",
   "execution_count": 11,
   "metadata": {},
   "outputs": [
    {
     "data": {
      "text/html": [
       "<div>\n",
       "<style scoped>\n",
       "    .dataframe tbody tr th:only-of-type {\n",
       "        vertical-align: middle;\n",
       "    }\n",
       "\n",
       "    .dataframe tbody tr th {\n",
       "        vertical-align: top;\n",
       "    }\n",
       "\n",
       "    .dataframe thead th {\n",
       "        text-align: right;\n",
       "    }\n",
       "</style>\n",
       "<table border=\"1\" class=\"dataframe\">\n",
       "  <thead>\n",
       "    <tr style=\"text-align: right;\">\n",
       "      <th></th>\n",
       "      <th>City ID</th>\n",
       "      <th>City Name</th>\n",
       "      <th>Cloudiness</th>\n",
       "      <th>Country</th>\n",
       "      <th>Date</th>\n",
       "      <th>Humidity</th>\n",
       "      <th>Latitude</th>\n",
       "      <th>Longitude</th>\n",
       "      <th>Max Temperature</th>\n",
       "      <th>Wind Speed</th>\n",
       "    </tr>\n",
       "  </thead>\n",
       "  <tbody>\n",
       "    <tr>\n",
       "      <th>0</th>\n",
       "      <td>2126123</td>\n",
       "      <td>Chokurdakh</td>\n",
       "      <td>40</td>\n",
       "      <td>RU</td>\n",
       "      <td>1658710728</td>\n",
       "      <td>34</td>\n",
       "      <td>70.6333</td>\n",
       "      <td>147.9167</td>\n",
       "      <td>69.31</td>\n",
       "      <td>11.30</td>\n",
       "    </tr>\n",
       "    <tr>\n",
       "      <th>1</th>\n",
       "      <td>3435038</td>\n",
       "      <td>Dolores</td>\n",
       "      <td>100</td>\n",
       "      <td>AR</td>\n",
       "      <td>1658710773</td>\n",
       "      <td>91</td>\n",
       "      <td>-36.3132</td>\n",
       "      <td>-57.6792</td>\n",
       "      <td>51.76</td>\n",
       "      <td>10.18</td>\n",
       "    </tr>\n",
       "    <tr>\n",
       "      <th>2</th>\n",
       "      <td>3833367</td>\n",
       "      <td>Ushuaia</td>\n",
       "      <td>40</td>\n",
       "      <td>AR</td>\n",
       "      <td>1658710585</td>\n",
       "      <td>64</td>\n",
       "      <td>-54.8000</td>\n",
       "      <td>-68.3000</td>\n",
       "      <td>35.26</td>\n",
       "      <td>5.75</td>\n",
       "    </tr>\n",
       "    <tr>\n",
       "      <th>3</th>\n",
       "      <td>5122534</td>\n",
       "      <td>Jamestown</td>\n",
       "      <td>97</td>\n",
       "      <td>US</td>\n",
       "      <td>1658710725</td>\n",
       "      <td>83</td>\n",
       "      <td>42.0970</td>\n",
       "      <td>-79.2353</td>\n",
       "      <td>74.79</td>\n",
       "      <td>5.99</td>\n",
       "    </tr>\n",
       "    <tr>\n",
       "      <th>4</th>\n",
       "      <td>2246901</td>\n",
       "      <td>Oussouye</td>\n",
       "      <td>73</td>\n",
       "      <td>SN</td>\n",
       "      <td>1658710773</td>\n",
       "      <td>88</td>\n",
       "      <td>12.4850</td>\n",
       "      <td>-16.5469</td>\n",
       "      <td>75.29</td>\n",
       "      <td>3.69</td>\n",
       "    </tr>\n",
       "  </tbody>\n",
       "</table>\n",
       "</div>"
      ],
      "text/plain": [
       "   City ID   City Name  Cloudiness Country        Date  Humidity  Latitude  \\\n",
       "0  2126123  Chokurdakh          40      RU  1658710728        34   70.6333   \n",
       "1  3435038     Dolores         100      AR  1658710773        91  -36.3132   \n",
       "2  3833367     Ushuaia          40      AR  1658710585        64  -54.8000   \n",
       "3  5122534   Jamestown          97      US  1658710725        83   42.0970   \n",
       "4  2246901    Oussouye          73      SN  1658710773        88   12.4850   \n",
       "\n",
       "   Longitude  Max Temperature  Wind Speed  \n",
       "0   147.9167            69.31       11.30  \n",
       "1   -57.6792            51.76       10.18  \n",
       "2   -68.3000            35.26        5.75  \n",
       "3   -79.2353            74.79        5.99  \n",
       "4   -16.5469            75.29        3.69  "
      ]
     },
     "execution_count": 11,
     "metadata": {},
     "output_type": "execute_result"
    }
   ],
   "source": [
    "maxHumid.head()"
   ]
  },
  {
   "cell_type": "markdown",
   "metadata": {},
   "source": [
    "## Plotting the Data\n",
    "* Use proper labeling of the plots using plot titles (including date of analysis) and axes labels.\n",
    "* Save the plotted figures as .pngs."
   ]
  },
  {
   "cell_type": "markdown",
   "metadata": {},
   "source": [
    "## Latitude vs. Temperature Plot"
   ]
  },
  {
   "cell_type": "code",
   "execution_count": 12,
   "metadata": {
    "scrolled": true
   },
   "outputs": [
    {
     "data": {
      "image/png": "[encoded data removed]",
      "text/plain": [
       "<Figure size 432x288 with 1 Axes>"
      ]
     },
     "metadata": {
      "needs_background": "light"
     },
     "output_type": "display_data"
    }
   ],
   "source": [
    "plt.scatter(maxHumid[\"Latitude\"], maxHumid[\"Max Temperature\"])\n",
    "plt.title(\"City Latitude vs Max Temperature (7/21/22)\")\n",
    "plt.xlabel(\"Latitude\")\n",
    "plt.ylabel(\"Max Temperature (F)\")\n",
    "plt.grid()\n",
    "plt.show()"
   ]
  },
  {
   "cell_type": "markdown",
   "metadata": {},
   "source": [
    "## Latitude vs. Humidity Plot"
   ]
  },
  {
   "cell_type": "code",
   "execution_count": 13,
   "metadata": {},
   "outputs": [
    {
     "data": {
      "image/png": "[encoded data removed]",
      "text/plain": [
       "<Figure size 432x288 with 1 Axes>"
      ]
     },
     "metadata": {
      "needs_background": "light"
     },
     "output_type": "display_data"
    }
   ],
   "source": [
    "plt.scatter(maxHumid[\"Latitude\"], maxHumid[\"Humidity\"])\n",
    "plt.title(\"City Latitude vs Humidity (7/21/22)\")\n",
    "plt.xlabel(\"Latitude\")\n",
    "plt.ylabel(\"Humidity (%)\")\n",
    "plt.grid()\n",
    "plt.show()"
   ]
  },
  {
   "cell_type": "markdown",
   "metadata": {},
   "source": [
    "## Latitude vs. Cloudiness Plot"
   ]
  },
  {
   "cell_type": "code",
   "execution_count": 14,
   "metadata": {},
   "outputs": [
    {
     "data": {
      "image/png": "[encoded data removed]",
      "text/plain": [
       "<Figure size 432x288 with 1 Axes>"
      ]
     },
     "metadata": {
      "needs_background": "light"
     },
     "output_type": "display_data"
    }
   ],
   "source": [
    "plt.scatter(maxHumid[\"Latitude\"], maxHumid[\"Cloudiness\"])\n",
    "plt.title(\"City Latitude vs Cloudiness (7/21/22)\")\n",
    "plt.xlabel(\"Latitude\")\n",
    "plt.ylabel(\"Cloudiness (%)\")\n",
    "plt.grid()\n",
    "plt.show()"
   ]
  },
  {
   "cell_type": "markdown",
   "metadata": {},
   "source": [
    "## Latitude vs. Wind Speed Plot"
   ]
  },
  {
   "cell_type": "code",
   "execution_count": 15,
   "metadata": {},
   "outputs": [
    {
     "data": {
      "image/png": "[encoded data removed]",
      "text/plain": [
       "<Figure size 432x288 with 1 Axes>"
      ]
     },
     "metadata": {
      "needs_background": "light"
     },
     "output_type": "display_data"
    }
   ],
   "source": [
    "plt.scatter(maxHumid[\"Latitude\"], maxHumid[\"Wind Speed\"])\n",
    "plt.title(\"City Latitude vs Wind Speed (7/21/22)\")\n",
    "plt.xlabel(\"Latitude\")\n",
    "plt.ylabel(\"Wind Speed (mph)\")\n",
    "plt.ylim(0,45)\n",
    "plt.grid()\n",
    "plt.show()"
   ]
  },
  {
   "cell_type": "markdown",
   "metadata": {},
   "source": [
    "## Linear Regression"
   ]
  },
  {
   "cell_type": "code",
   "execution_count": 16,
   "metadata": {},
   "outputs": [],
   "source": [
    "north = maxHumid['Latitude'] >= 0\n",
    "northernHem = maxHumid[north]\n",
    "southernHem = maxHumid[~north]"
   ]
  },
  {
   "cell_type": "markdown",
   "metadata": {},
   "source": [
    "####  Northern Hemisphere - Max Temp vs. Latitude Linear Regression"
   ]
  },
  {
   "cell_type": "code",
   "execution_count": 17,
   "metadata": {},
   "outputs": [
    {
     "name": "stdout",
     "output_type": "stream",
     "text": [
      "The r-value is 0.38704707946018646\n"
     ]
    },
    {
     "data": {
      "image/png": "[encoded data removed]",
      "text/plain": [
       "<Figure size 432x288 with 1 Axes>"
      ]
     },
     "metadata": {
      "needs_background": "light"
     },
     "output_type": "display_data"
    }
   ],
   "source": [
    "x_values = northernHem['Latitude']\n",
    "y_values = northernHem['Max Temperature']\n",
    "(slope, intercept, rvalue, pvalue, stderr) = linregress(x_values, y_values)\n",
    "regress_values = x_values * slope + intercept\n",
    "line_eq = \"y = \" + str(round(slope,2)) + \"x + \" + str(round(intercept,2))\n",
    "plt.scatter(x_values,y_values)\n",
    "plt.plot(x_values,regress_values,\"r-\")\n",
    "plt.xlabel('Latitude')\n",
    "plt.ylabel('Max Temp')\n",
    "print(f\"The r-value is {rvalue**2}\")\n",
    "plt.annotate(line_eq,(10,40),fontsize=15,color=\"red\")\n",
    "plt.show()\n"
   ]
  },
  {
   "cell_type": "markdown",
   "metadata": {},
   "source": [
    "####  Southern Hemisphere - Max Temp vs. Latitude Linear Regression"
   ]
  },
  {
   "cell_type": "code",
   "execution_count": 18,
   "metadata": {},
   "outputs": [
    {
     "name": "stdout",
     "output_type": "stream",
     "text": [
      "The r-value is 0.6153637469715882\n"
     ]
    },
    {
     "data": {
      "image/png": "[encoded data removed]",
      "text/plain": [
       "<Figure size 432x288 with 1 Axes>"
      ]
     },
     "metadata": {
      "needs_background": "light"
     },
     "output_type": "display_data"
    }
   ],
   "source": [
    "x_values = southernHem['Latitude']\n",
    "y_values = southernHem['Max Temperature']\n",
    "(slope, intercept, rvalue, pvalue, stderr) = linregress(x_values, y_values)\n",
    "regress_values = x_values * slope + intercept\n",
    "line_eq = \"y = \" + str(round(slope,2)) + \"x + \" + str(round(intercept,2))\n",
    "plt.scatter(x_values,y_values)\n",
    "plt.plot(x_values,regress_values,\"r-\")\n",
    "plt.xlabel('Latitude')\n",
    "plt.ylabel('Max Temp')\n",
    "print(f\"The r-value is {rvalue**2}\")\n",
    "plt.annotate(line_eq,(-50,80),fontsize=15,color=\"red\")\n",
    "plt.show()"
   ]
  },
  {
   "cell_type": "markdown",
   "metadata": {},
   "source": [
    "####  Northern Hemisphere - Humidity (%) vs. Latitude Linear Regression"
   ]
  },
  {
   "cell_type": "code",
   "execution_count": 19,
   "metadata": {},
   "outputs": [
    {
     "name": "stdout",
     "output_type": "stream",
     "text": [
      "The r-value is 0.00018750347083315816\n"
     ]
    },
    {
     "data": {
      "image/png": "[encoded data removed]",
      "text/plain": [
       "<Figure size 432x288 with 1 Axes>"
      ]
     },
     "metadata": {
      "needs_background": "light"
     },
     "output_type": "display_data"
    }
   ],
   "source": [
    "x_values = northernHem['Latitude']\n",
    "y_values = northernHem['Humidity']\n",
    "(slope, intercept, rvalue, pvalue, stderr) = linregress(x_values, y_values)\n",
    "regress_values = x_values * slope + intercept\n",
    "line_eq = \"y = \" + str(round(slope,2)) + \"x + \" + str(round(intercept,2))\n",
    "plt.scatter(x_values,y_values)\n",
    "plt.plot(x_values,regress_values,\"r-\")\n",
    "plt.xlabel('Latitude')\n",
    "plt.ylabel('Humidity')\n",
    "print(f\"The r-value is {rvalue**2}\")\n",
    "plt.annotate(line_eq,(40,10),fontsize=15,color=\"red\")\n",
    "plt.show()"
   ]
  },
  {
   "cell_type": "markdown",
   "metadata": {},
   "source": [
    "####  Southern Hemisphere - Humidity (%) vs. Latitude Linear Regression"
   ]
  },
  {
   "cell_type": "code",
   "execution_count": 20,
   "metadata": {},
   "outputs": [
    {
     "name": "stdout",
     "output_type": "stream",
     "text": [
      "The r-value is 0.02813129177911663\n"
     ]
    },
    {
     "data": {
      "image/png": "[encoded data removed]",
      "text/plain": [
       "<Figure size 432x288 with 1 Axes>"
      ]
     },
     "metadata": {
      "needs_background": "light"
     },
     "output_type": "display_data"
    }
   ],
   "source": [
    "x_values = southernHem['Latitude']\n",
    "y_values = southernHem['Humidity']\n",
    "(slope, intercept, rvalue, pvalue, stderr) = linregress(x_values, y_values)\n",
    "regress_values = x_values * slope + intercept\n",
    "line_eq = \"y = \" + str(round(slope,2)) + \"x + \" + str(round(intercept,2))\n",
    "plt.scatter(x_values,y_values)\n",
    "plt.plot(x_values,regress_values,\"r-\")\n",
    "plt.xlabel('Latitude')\n",
    "plt.ylabel('Humidity')\n",
    "print(f\"The r-value is {rvalue**2}\")\n",
    "plt.annotate(line_eq,(-50,20),fontsize=15,color=\"red\")\n",
    "plt.show()"
   ]
  },
  {
   "cell_type": "markdown",
   "metadata": {},
   "source": [
    "####  Northern Hemisphere - Cloudiness (%) vs. Latitude Linear Regression"
   ]
  },
  {
   "cell_type": "code",
   "execution_count": 21,
   "metadata": {},
   "outputs": [
    {
     "name": "stdout",
     "output_type": "stream",
     "text": [
      "The r-value is 0.0011213529944105525\n"
     ]
    },
    {
     "data": {
      "image/png": "[encoded data removed]",
      "text/plain": [
       "<Figure size 432x288 with 1 Axes>"
      ]
     },
     "metadata": {
      "needs_background": "light"
     },
     "output_type": "display_data"
    }
   ],
   "source": [
    "x_values = northernHem['Latitude']\n",
    "y_values = northernHem['Cloudiness']\n",
    "(slope, intercept, rvalue, pvalue, stderr) = linregress(x_values, y_values)\n",
    "regress_values = x_values * slope + intercept\n",
    "line_eq = \"y = \" + str(round(slope,2)) + \"x + \" + str(round(intercept,2))\n",
    "plt.scatter(x_values,y_values)\n",
    "plt.plot(x_values,regress_values,\"r-\")\n",
    "plt.xlabel('Latitude')\n",
    "plt.ylabel('Cloudiness')\n",
    "print(f\"The r-value is {rvalue**2}\")\n",
    "plt.annotate(line_eq,(40,10),fontsize=15,color=\"red\")\n",
    "plt.show()"
   ]
  },
  {
   "cell_type": "markdown",
   "metadata": {},
   "source": [
    "####  Southern Hemisphere - Cloudiness (%) vs. Latitude Linear Regression"
   ]
  },
  {
   "cell_type": "code",
   "execution_count": 22,
   "metadata": {},
   "outputs": [
    {
     "name": "stdout",
     "output_type": "stream",
     "text": [
      "The r-value is 0.003243571684387264\n"
     ]
    },
    {
     "data": {
      "image/png": "[encoded data removed]",
      "text/plain": [
       "<Figure size 432x288 with 1 Axes>"
      ]
     },
     "metadata": {
      "needs_background": "light"
     },
     "output_type": "display_data"
    }
   ],
   "source": [
    "x_values = southernHem['Latitude']\n",
    "y_values = southernHem['Cloudiness']\n",
    "(slope, intercept, rvalue, pvalue, stderr) = linregress(x_values, y_values)\n",
    "regress_values = x_values * slope + intercept\n",
    "line_eq = \"y = \" + str(round(slope,2)) + \"x + \" + str(round(intercept,2))\n",
    "plt.scatter(x_values,y_values)\n",
    "plt.plot(x_values,regress_values,\"r-\")\n",
    "plt.xlabel('Latitude')\n",
    "plt.ylabel('Cloudiness')\n",
    "print(f\"The r-value is {rvalue**2}\")\n",
    "plt.annotate(line_eq,(-50,80),fontsize=15,color=\"red\")\n",
    "plt.show()"
   ]
  },
  {
   "cell_type": "markdown",
   "metadata": {},
   "source": [
    "####  Northern Hemisphere - Wind Speed (mph) vs. Latitude Linear Regression"
   ]
  },
  {
   "cell_type": "code",
   "execution_count": 23,
   "metadata": {},
   "outputs": [
    {
     "name": "stdout",
     "output_type": "stream",
     "text": [
      "The r-value is 0.0006549207371159563\n"
     ]
    },
    {
     "data": {
      "image/png": "[encoded data removed]",
      "text/plain": [
       "<Figure size 432x288 with 1 Axes>"
      ]
     },
     "metadata": {
      "needs_background": "light"
     },
     "output_type": "display_data"
    }
   ],
   "source": [
    "x_values = northernHem['Latitude']\n",
    "y_values = northernHem['Wind Speed']\n",
    "(slope, intercept, rvalue, pvalue, stderr) = linregress(x_values, y_values)\n",
    "regress_values = x_values * slope + intercept\n",
    "line_eq = \"y = \" + str(round(slope,2)) + \"x + \" + str(round(intercept,2))\n",
    "plt.scatter(x_values,y_values)\n",
    "plt.plot(x_values,regress_values,\"r-\")\n",
    "plt.xlabel('Latitude')\n",
    "plt.ylabel('Wind Speed')\n",
    "print(f\"The r-value is {rvalue**2}\")\n",
    "plt.annotate(line_eq,(40,30),fontsize=15,color=\"red\")\n",
    "plt.show()"
   ]
  },
  {
   "cell_type": "markdown",
   "metadata": {},
   "source": [
    "####  Southern Hemisphere - Wind Speed (mph) vs. Latitude Linear Regression"
   ]
  },
  {
   "cell_type": "code",
   "execution_count": 24,
   "metadata": {},
   "outputs": [
    {
     "name": "stdout",
     "output_type": "stream",
     "text": [
      "The r-value is 0.022274207173638788\n"
     ]
    },
    {
     "data": {
      "image/png": "[encoded data removed]",
      "text/plain": [
       "<Figure size 432x288 with 1 Axes>"
      ]
     },
     "metadata": {
      "needs_background": "light"
     },
     "output_type": "display_data"
    }
   ],
   "source": [
    "x_values = southernHem['Latitude']\n",
    "y_values = southernHem['Wind Speed']\n",
    "(slope, intercept, rvalue, pvalue, stderr) = linregress(x_values, y_values)\n",
    "regress_values = x_values * slope + intercept\n",
    "line_eq = \"y = \" + str(round(slope,2)) + \"x + \" + str(round(intercept,2))\n",
    "plt.scatter(x_values,y_values)\n",
    "plt.plot(x_values,regress_values,\"r-\")\n",
    "plt.xlabel('Latitude')\n",
    "plt.ylabel('Wind Speed')\n",
    "print(f\"The r-value is {rvalue**2}\")\n",
    "plt.annotate(line_eq,(-30,25),fontsize=15,color=\"red\")\n",
    "plt.show()"
   ]
  },
  {
   "cell_type": "code",
   "execution_count": null,
   "metadata": {},
   "outputs": [],
   "source": []
  }
 ],
 "metadata": {
  "anaconda-cloud": {},
  "kernel_info": {
   "name": "python3"
  },
  "kernelspec": {
   "display_name": "Python 3 (ipykernel)",
   "language": "python",
   "name": "python3"
  },
  "language_info": {
   "codemirror_mode": {
    "name": "ipython",
    "version": 3
   },
   "file_extension": ".py",
   "mimetype": "text/x-python",
   "name": "python",
   "nbconvert_exporter": "python",
   "pygments_lexer": "ipython3",
   "version": "3.9.12"
  },
  "latex_envs": {
   "LaTeX_envs_menu_present": true,
   "autoclose": false,
   "autocomplete": true,
   "bibliofile": "biblio.bib",
   "cite_by": "apalike",
   "current_citInitial": 1,
   "eqLabelWithNumbers": true,
   "eqNumInitial": 1,
   "hotkeys": {
    "equation": "Ctrl-E",
    "itemize": "Ctrl-I"
   },
   "labels_anchors": false,
   "latex_user_defs": false,
   "report_style_numbering": false,
   "user_envs_cfg": false
  },
  "nteract": {
   "version": "0.12.3"
  }
 },
 "nbformat": 4,
 "nbformat_minor": 2
}
